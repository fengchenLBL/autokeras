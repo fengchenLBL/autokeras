{
 "cells": [
  {
   "cell_type": "code",
   "execution_count": 1,
   "metadata": {
    "colab_type": "code"
   },
   "outputs": [],
   "source": [
    "# !pip install autokeras\n"
   ]
  },
  {
   "cell_type": "code",
   "execution_count": 2,
   "metadata": {
    "colab_type": "code"
   },
   "outputs": [],
   "source": [
    "import tensorflow as tf\n",
    "from tensorflow.keras.datasets import mnist\n",
    "from tensorflow.keras.models import load_model\n",
    "\n",
    "import autokeras as ak\n"
   ]
  },
  {
   "cell_type": "markdown",
   "metadata": {
    "colab_type": "text"
   },
   "source": [
    "You can easily export your model the best model found by AutoKeras as a Keras Model.\n",
    "\n",
    "The following example uses [ImageClassifier](/image_classifier) as an example.\n",
    "All the tasks and the [AutoModel](/auto_model/#automodel-class) has this\n",
    "[export_model](/auto_model/#export_model-method) function.\n"
   ]
  },
  {
   "cell_type": "code",
   "execution_count": 3,
   "metadata": {
    "colab_type": "code"
   },
   "outputs": [
    {
     "name": "stdout",
     "output_type": "stream",
     "text": [
      "Trial 1 Complete [00h 00m 20s]\n",
      "val_loss: 0.0704071894288063\n",
      "\n",
      "Best val_loss So Far: 0.0704071894288063\n",
      "Total elapsed time: 00h 00m 20s\n",
      "INFO:tensorflow:Oracle triggered exit\n",
      "1875/1875 [==============================] - 21s 11ms/step - loss: 0.3068 - accuracy: 0.9058\n",
      "INFO:tensorflow:Assets written to: ./image_classifier/best_model/assets\n",
      "<class 'tensorflow.python.keras.engine.functional.Functional'>\n",
      "INFO:tensorflow:Assets written to: model_autokeras/assets\n",
      "[[1.0951538e-08 5.8919043e-11 3.2986731e-07 ... 9.9999857e-01\n",
      "  7.3537776e-09 5.6847063e-07]\n",
      " [2.2972637e-04 4.1250918e-05 9.9841380e-01 ... 2.6632739e-12\n",
      "  1.3909725e-04 5.6212470e-09]\n",
      " [1.0130068e-06 9.9801815e-01 1.0358118e-04 ... 2.9545042e-04\n",
      "  2.0073063e-05 2.9930934e-06]\n",
      " ...\n",
      " [1.5984419e-09 1.0476008e-08 6.0304406e-10 ... 4.3997129e-06\n",
      "  2.0872942e-05 1.8784402e-05]\n",
      " [3.1076379e-08 1.7115773e-09 1.3730368e-09 ... 9.2870260e-11\n",
      "  7.7287310e-05 9.4174517e-08]\n",
      " [2.2979389e-06 5.2874538e-10 1.0132250e-06 ... 9.5637699e-11\n",
      "  2.6266608e-07 1.7210051e-09]]\n"
     ]
    }
   ],
   "source": [
    "\n",
    "print(tf.__version__)\n",
    "(x_train, y_train), (x_test, y_test) = mnist.load_data()\n",
    "\n",
    "# Initialize the image classifier.\n",
    "clf = ak.ImageClassifier(\n",
    "    overwrite=True, max_trials=1\n",
    ")  # Try only 1 model.(Increase accordingly)\n",
    "# Feed the image classifier with training data.\n",
    "clf.fit(x_train, y_train, epochs=1)  # Change no of epochs to improve the model\n",
    "# Export as a Keras Model.\n",
    "model = clf.export_model()\n",
    "\n",
    "print(type(model))  # <class 'tensorflow.python.keras.engine.training.Model'>\n",
    "\n",
    "try:\n",
    "    model.save(\"model_autokeras\", save_format=\"tf\")\n",
    "except Exception:\n",
    "    model.save(\"model_autokeras.h5\")\n",
    "\n",
    "\n",
    "loaded_model = load_model(\"model_autokeras\", custom_objects=ak.CUSTOM_OBJECTS)\n",
    "\n",
    "predicted_y = loaded_model.predict(tf.expand_dims(x_test, -1))\n",
    "print(predicted_y)\n"
   ]
  },
  {
   "cell_type": "code",
   "execution_count": null,
   "metadata": {},
   "outputs": [],
   "source": []
  }
 ],
 "metadata": {
  "colab": {
   "collapsed_sections": [],
   "name": "export",
   "private_outputs": false,
   "provenance": [],
   "toc_visible": true
  },
  "kernelspec": {
   "display_name": "Python 3",
   "language": "python",
   "name": "python3"
  },
  "language_info": {
   "codemirror_mode": {
    "name": "ipython",
    "version": 3
   },
   "file_extension": ".py",
   "mimetype": "text/x-python",
   "name": "python",
   "nbconvert_exporter": "python",
   "pygments_lexer": "ipython3",
   "version": "3.6.9"
  }
 },
 "nbformat": 4,
 "nbformat_minor": 4
}
